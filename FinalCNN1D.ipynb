{
  "nbformat": 4,
  "nbformat_minor": 0,
  "metadata": {
    "colab": {
      "name": "FinalCNN1D.ipynb",
      "provenance": [],
      "collapsed_sections": []
    },
    "kernelspec": {
      "name": "python3",
      "display_name": "Python 3"
    },
    "accelerator": "GPU"
  },
  "cells": [
    {
      "cell_type": "code",
      "metadata": {
        "id": "G-ss0L56qdG4",
        "colab": {
          "base_uri": "https://localhost:8080/"
        },
        "outputId": "d8d8e041-e5d1-4393-9728-d1e2b6c0bb1a"
      },
      "source": [
        "from google.colab import drive\n",
        "drive.mount('/content/drive')"
      ],
      "execution_count": null,
      "outputs": [
        {
          "output_type": "stream",
          "text": [
            "Mounted at /content/drive\n"
          ],
          "name": "stdout"
        }
      ]
    },
    {
      "cell_type": "code",
      "metadata": {
        "id": "ACEz8Tlo_gSB"
      },
      "source": [
        "#import deep learning libraries and other needed libraries\n",
        "from keras import Sequential\n",
        "from keras.layers import Flatten, Dense, Dropout, BatchNormalization\n",
        "from keras.layers import Conv1D, MaxPooling1D\n",
        "from keras.optimizers import Adam, SGD\n",
        "\n",
        "import pandas as pd\n",
        "import numpy as np\n",
        "import matplotlib.pyplot as plt\n",
        "from sklearn.model_selection import train_test_split\n",
        "from sklearn.preprocessing import StandardScaler, MinMaxScaler"
      ],
      "execution_count": null,
      "outputs": []
    },
    {
      "cell_type": "code",
      "metadata": {
        "id": "c4t7Ay3J_8UG",
        "colab": {
          "base_uri": "https://localhost:8080/",
          "height": 206
        },
        "outputId": "b44926be-e437-4160-dd60-565c26050dbe"
      },
      "source": [
        "#load dataset\n",
        "train_data = pd.read_csv('/content/drive/My Drive/592TopicsDataScience/Final Project/test.csv')\n",
        "train_data.columns = [\"Time\", \"ECG\", \"Ax\", \"Ay\", \"Az\"]\n",
        "train_data.head()"
      ],
      "execution_count": null,
      "outputs": [
        {
          "output_type": "execute_result",
          "data": {
            "text/html": [
              "<div>\n",
              "<style scoped>\n",
              "    .dataframe tbody tr th:only-of-type {\n",
              "        vertical-align: middle;\n",
              "    }\n",
              "\n",
              "    .dataframe tbody tr th {\n",
              "        vertical-align: top;\n",
              "    }\n",
              "\n",
              "    .dataframe thead th {\n",
              "        text-align: right;\n",
              "    }\n",
              "</style>\n",
              "<table border=\"1\" class=\"dataframe\">\n",
              "  <thead>\n",
              "    <tr style=\"text-align: right;\">\n",
              "      <th></th>\n",
              "      <th>Time</th>\n",
              "      <th>ECG</th>\n",
              "      <th>Ax</th>\n",
              "      <th>Ay</th>\n",
              "      <th>Az</th>\n",
              "    </tr>\n",
              "  </thead>\n",
              "  <tbody>\n",
              "    <tr>\n",
              "      <th>0</th>\n",
              "      <td>0.008333</td>\n",
              "      <td>134.76</td>\n",
              "      <td>0.22310</td>\n",
              "      <td>-0.15131</td>\n",
              "      <td>0.87346</td>\n",
              "    </tr>\n",
              "    <tr>\n",
              "      <th>1</th>\n",
              "      <td>0.016667</td>\n",
              "      <td>117.64</td>\n",
              "      <td>0.21813</td>\n",
              "      <td>-0.15153</td>\n",
              "      <td>0.87047</td>\n",
              "    </tr>\n",
              "    <tr>\n",
              "      <th>2</th>\n",
              "      <td>0.025000</td>\n",
              "      <td>144.96</td>\n",
              "      <td>0.21896</td>\n",
              "      <td>-0.15314</td>\n",
              "      <td>0.85289</td>\n",
              "    </tr>\n",
              "    <tr>\n",
              "      <th>3</th>\n",
              "      <td>0.033333</td>\n",
              "      <td>160.57</td>\n",
              "      <td>0.21804</td>\n",
              "      <td>-0.15625</td>\n",
              "      <td>0.86721</td>\n",
              "    </tr>\n",
              "    <tr>\n",
              "      <th>4</th>\n",
              "      <td>0.041667</td>\n",
              "      <td>177.87</td>\n",
              "      <td>0.21802</td>\n",
              "      <td>-0.15437</td>\n",
              "      <td>0.87482</td>\n",
              "    </tr>\n",
              "  </tbody>\n",
              "</table>\n",
              "</div>"
            ],
            "text/plain": [
              "       Time     ECG       Ax       Ay       Az\n",
              "0  0.008333  134.76  0.22310 -0.15131  0.87346\n",
              "1  0.016667  117.64  0.21813 -0.15153  0.87047\n",
              "2  0.025000  144.96  0.21896 -0.15314  0.85289\n",
              "3  0.033333  160.57  0.21804 -0.15625  0.86721\n",
              "4  0.041667  177.87  0.21802 -0.15437  0.87482"
            ]
          },
          "metadata": {
            "tags": []
          },
          "execution_count": 4
        }
      ]
    },
    {
      "cell_type": "code",
      "metadata": {
        "id": "whEsWdcjIaj2",
        "colab": {
          "base_uri": "https://localhost:8080/"
        },
        "outputId": "914fce67-ca70-4b11-fa0b-c23ae3ce7f58"
      },
      "source": [
        "print(\"Shape of Training data: \",train_data.shape)"
      ],
      "execution_count": null,
      "outputs": [
        {
          "output_type": "stream",
          "text": [
            "Shape of Training data:  (335991, 5)\n"
          ],
          "name": "stdout"
        }
      ]
    },
    {
      "cell_type": "code",
      "metadata": {
        "colab": {
          "base_uri": "https://localhost:8080/"
        },
        "id": "mWaK5pVV0bVc",
        "outputId": "1ea7c8d7-6ecd-4ece-dc0d-144bd0200942"
      },
      "source": [
        "train_data.info()"
      ],
      "execution_count": null,
      "outputs": [
        {
          "output_type": "stream",
          "text": [
            "<class 'pandas.core.frame.DataFrame'>\n",
            "RangeIndex: 335991 entries, 0 to 335990\n",
            "Data columns (total 5 columns):\n",
            " #   Column  Non-Null Count   Dtype  \n",
            "---  ------  --------------   -----  \n",
            " 0   Time    335991 non-null  float64\n",
            " 1   ECG     335991 non-null  float64\n",
            " 2   Ax      335991 non-null  float64\n",
            " 3   Ay      335991 non-null  float64\n",
            " 4   Az      335991 non-null  float64\n",
            "dtypes: float64(5)\n",
            "memory usage: 12.8 MB\n"
          ],
          "name": "stdout"
        }
      ]
    },
    {
      "cell_type": "code",
      "metadata": {
        "id": "vefB0DI28wBJ",
        "colab": {
          "base_uri": "https://localhost:8080/"
        },
        "outputId": "c9ecb573-763c-432c-c54d-15c258f3b31e"
      },
      "source": [
        "sample_freq = 120 # sampling frequency\n",
        "total_samples = train_data.shape[0] # total samples\n",
        "total_set_samples = int(np.floor(train_data.shape[0]/sample_freq)*sample_freq)\n",
        "print(\"Sampling Frequency: {}\\n Total Samples: {}\\n Total Set Samples: {}\".format(sample_freq,total_samples,total_set_samples))"
      ],
      "execution_count": null,
      "outputs": [
        {
          "output_type": "stream",
          "text": [
            "Sampling Frequency: 120\n",
            " Total Samples: 335991\n",
            " Total Set Samples: 335880\n"
          ],
          "name": "stdout"
        }
      ]
    },
    {
      "cell_type": "code",
      "metadata": {
        "id": "aEuh0bgkIqgo"
      },
      "source": [
        "# preprocess data\n",
        "X_i=train_data[[\"Ax\", \"Ay\", \"Az\"]].to_numpy()\n",
        "X_i=X_i[48:] # take samples after 48 as there was delay in the signal\n",
        "Y_i=train_data[[\"ECG\"]].to_numpy()\n",
        "Y_i=Y_i[:-48] # remove last 48 samples to make it compatible to input X\n",
        "time_stamp = train_data[[\"Time\"]].to_numpy()"
      ],
      "execution_count": null,
      "outputs": []
    },
    {
      "cell_type": "code",
      "metadata": {
        "id": "Qm3kHTumVxiN",
        "colab": {
          "base_uri": "https://localhost:8080/"
        },
        "outputId": "fc7a386b-cb76-4336-d059-c5d0b1134dff"
      },
      "source": [
        "validation_samples = int(0.20* total_samples)\n",
        "print(validation_samples)"
      ],
      "execution_count": null,
      "outputs": [
        {
          "output_type": "stream",
          "text": [
            "67198\n"
          ],
          "name": "stdout"
        }
      ]
    },
    {
      "cell_type": "code",
      "metadata": {
        "id": "aW0neqhTIicm",
        "colab": {
          "base_uri": "https://localhost:8080/"
        },
        "outputId": "f6e38dc8-f11c-44bf-9002-925ea823af31"
      },
      "source": [
        "X_train, X_test, y_train, y_test = X_i[:-validation_samples],X_i[-validation_samples:],Y_i[:-validation_samples],Y_i[-validation_samples:],\n",
        "\n",
        "print(\"X_train shape: {}\".format(X_train.shape))\n",
        "print(\"y_train shape: {}\".format(y_train.shape))\n",
        "\n",
        "total_train_samples = X_train.shape[0]\n",
        "print(\"X_test shape: {}\".format(X_test.shape))\n",
        "print(\"y_test shape: {}\".format(y_test.shape))\n",
        "\n",
        "total_val_samples = X_test.shape[0]\n",
        "\n",
        "time_stamp_v = time_stamp[-validation_samples:]"
      ],
      "execution_count": null,
      "outputs": [
        {
          "output_type": "stream",
          "text": [
            "X_train shape: (268745, 3)\n",
            "y_train shape: (268745, 1)\n",
            "X_test shape: (67198, 3)\n",
            "y_test shape: (67198, 1)\n"
          ],
          "name": "stdout"
        }
      ]
    },
    {
      "cell_type": "code",
      "metadata": {
        "id": "VaUtAPSu8yzj",
        "colab": {
          "base_uri": "https://localhost:8080/"
        },
        "outputId": "92cd1fbe-515d-4904-b548-3592e629373c"
      },
      "source": [
        "# normalise the data\n",
        "scaler = StandardScaler()\n",
        "X_train_scaled = scaler.fit_transform(X_train)\n",
        "Y_train_scaled = scaler.fit_transform(y_train)\n",
        "X_test_scaled = scaler.fit_transform(X_test)\n",
        "Y_test_scaled = scaler.fit_transform(y_test)\n",
        "\n",
        "# create training data for NN\n",
        "X,Y,Xt,Yt,tm = [],[],[],[],[]\n",
        "stride = 60\n",
        "for i in range(0,total_train_samples-stride):\n",
        "  X.append(X_train_scaled[i:i+stride])\n",
        "  Y.append(Y_train_scaled[i+stride-1])\n",
        "\n",
        "for i in range(0,total_val_samples-stride):\n",
        "  Xt.append(X_test_scaled[i:i+stride])\n",
        "  Yt.append(Y_test_scaled[i+stride-1])\n",
        "  tm.append(time_stamp_v[i+stride-1])\n",
        "\n",
        "TM = np.array(tm)\n",
        "X = np.array(X)\n",
        "print(\"Input X shape:\",X.shape)\n",
        "Y = np.array(Y)\n",
        "# Y = np.array(Y).reshape(-1,1,sample_freq)\n",
        "print(\"Input Y shape:\",Y.shape)\n",
        "\n",
        "print(\"# of sets: {}\\n# of timesteps: {}\\n# features: {}\\n\".format(X.shape[0],X.shape[1],X.shape[2]))\n",
        "\n",
        "# sets,timesteps,features,outputs = X.shape[0],X.shape[1],X.shape[2],Y.shape[2]\n",
        "\n",
        "Xt = np.array(Xt)\n",
        "Yt = np.array(Yt)\n",
        "\n",
        "print(\"Test X shape:\",Xt.shape)\n",
        "print(\"Test Y shape:\",Yt.shape)\n",
        "# Y = np.median(Y,axis=2)\n",
        "# print(\"Input Y shape:\",Y.shape)\n",
        "# Y = np.array(Y).reshape(-1,1,120)"
      ],
      "execution_count": null,
      "outputs": [
        {
          "output_type": "stream",
          "text": [
            "Input X shape: (268685, 60, 3)\n",
            "Input Y shape: (268685, 1)\n",
            "# of sets: 268685\n",
            "# of timesteps: 60\n",
            "# features: 3\n",
            "\n",
            "Test X shape: (67138, 60, 3)\n",
            "Test Y shape: (67138, 1)\n"
          ],
          "name": "stdout"
        }
      ]
    },
    {
      "cell_type": "code",
      "metadata": {
        "id": "58uvxCUcS_NS",
        "colab": {
          "base_uri": "https://localhost:8080/"
        },
        "outputId": "c03734ea-a800-4962-bf92-40423906bb09"
      },
      "source": [
        "#create model\n",
        "model = Sequential()\n",
        "model.add(Conv1D(filters=128, kernel_size=10, activation='relu', input_shape=(stride,3)))\n",
        "model.add(Flatten())\n",
        "model.add(Dense(200, activation='relu'))\n",
        "model.add(Dense(100, activation='relu'))\n",
        "model.add(Dense(1))\n",
        "model.summary()"
      ],
      "execution_count": null,
      "outputs": [
        {
          "output_type": "stream",
          "text": [
            "Model: \"sequential\"\n",
            "_________________________________________________________________\n",
            "Layer (type)                 Output Shape              Param #   \n",
            "=================================================================\n",
            "conv1d (Conv1D)              (None, 51, 128)           3968      \n",
            "_________________________________________________________________\n",
            "flatten (Flatten)            (None, 6528)              0         \n",
            "_________________________________________________________________\n",
            "dense (Dense)                (None, 200)               1305800   \n",
            "_________________________________________________________________\n",
            "dense_1 (Dense)              (None, 100)               20100     \n",
            "_________________________________________________________________\n",
            "dense_2 (Dense)              (None, 1)                 101       \n",
            "=================================================================\n",
            "Total params: 1,329,969\n",
            "Trainable params: 1,329,969\n",
            "Non-trainable params: 0\n",
            "_________________________________________________________________\n"
          ],
          "name": "stdout"
        }
      ]
    },
    {
      "cell_type": "code",
      "metadata": {
        "id": "mOe8HuJfU0xm",
        "colab": {
          "base_uri": "https://localhost:8080/"
        },
        "outputId": "48286031-1a3c-4caf-8f98-20fa691671bc"
      },
      "source": [
        "# compile model\n",
        "batch_size=64\n",
        "model.compile(loss='mse', optimizer='adam', metrics=['accuracy'])\n",
        "history = model.fit(X,Y,batch_size=batch_size,epochs=30,verbose=1,validation_data=(Xt, Yt))"
      ],
      "execution_count": null,
      "outputs": [
        {
          "output_type": "stream",
          "text": [
            "Epoch 1/30\n",
            "4199/4199 [==============================] - 20s 3ms/step - loss: 0.7991 - accuracy: 0.0000e+00 - val_loss: 1.1331 - val_accuracy: 0.0000e+00\n",
            "Epoch 2/30\n",
            "4199/4199 [==============================] - 13s 3ms/step - loss: 0.4359 - accuracy: 0.0000e+00 - val_loss: 0.9842 - val_accuracy: 0.0000e+00\n",
            "Epoch 3/30\n",
            "4199/4199 [==============================] - 13s 3ms/step - loss: 0.3791 - accuracy: 0.0000e+00 - val_loss: 1.1002 - val_accuracy: 0.0000e+00\n",
            "Epoch 4/30\n",
            "4199/4199 [==============================] - 13s 3ms/step - loss: 0.3574 - accuracy: 0.0000e+00 - val_loss: 1.0985 - val_accuracy: 0.0000e+00\n",
            "Epoch 5/30\n",
            "4199/4199 [==============================] - 13s 3ms/step - loss: 0.3178 - accuracy: 0.0000e+00 - val_loss: 1.2764 - val_accuracy: 0.0000e+00\n",
            "Epoch 6/30\n",
            "4199/4199 [==============================] - 13s 3ms/step - loss: 0.2944 - accuracy: 0.0000e+00 - val_loss: 1.3301 - val_accuracy: 0.0000e+00\n",
            "Epoch 7/30\n",
            "4199/4199 [==============================] - 13s 3ms/step - loss: 0.2725 - accuracy: 0.0000e+00 - val_loss: 1.1412 - val_accuracy: 0.0000e+00\n",
            "Epoch 8/30\n",
            "4199/4199 [==============================] - 12s 3ms/step - loss: 0.2552 - accuracy: 0.0000e+00 - val_loss: 1.0311 - val_accuracy: 0.0000e+00\n",
            "Epoch 9/30\n",
            "4199/4199 [==============================] - 13s 3ms/step - loss: 0.2369 - accuracy: 0.0000e+00 - val_loss: 1.0601 - val_accuracy: 0.0000e+00\n",
            "Epoch 10/30\n",
            "4199/4199 [==============================] - 14s 3ms/step - loss: 0.2274 - accuracy: 0.0000e+00 - val_loss: 1.2505 - val_accuracy: 0.0000e+00\n",
            "Epoch 11/30\n",
            "4199/4199 [==============================] - 13s 3ms/step - loss: 0.2130 - accuracy: 0.0000e+00 - val_loss: 1.2752 - val_accuracy: 0.0000e+00\n",
            "Epoch 12/30\n",
            "4199/4199 [==============================] - 14s 3ms/step - loss: 0.2051 - accuracy: 0.0000e+00 - val_loss: 1.2615 - val_accuracy: 0.0000e+00\n",
            "Epoch 13/30\n",
            "4199/4199 [==============================] - 14s 3ms/step - loss: 0.1974 - accuracy: 0.0000e+00 - val_loss: 1.1454 - val_accuracy: 0.0000e+00\n",
            "Epoch 14/30\n",
            "4199/4199 [==============================] - 14s 3ms/step - loss: 0.1882 - accuracy: 0.0000e+00 - val_loss: 1.2039 - val_accuracy: 0.0000e+00\n",
            "Epoch 15/30\n",
            "4199/4199 [==============================] - 13s 3ms/step - loss: 0.1761 - accuracy: 0.0000e+00 - val_loss: 1.2800 - val_accuracy: 0.0000e+00\n",
            "Epoch 16/30\n",
            "4199/4199 [==============================] - 14s 3ms/step - loss: 0.1718 - accuracy: 0.0000e+00 - val_loss: 1.1478 - val_accuracy: 0.0000e+00\n",
            "Epoch 17/30\n",
            "4199/4199 [==============================] - 14s 3ms/step - loss: 0.1666 - accuracy: 0.0000e+00 - val_loss: 1.2195 - val_accuracy: 0.0000e+00\n",
            "Epoch 18/30\n",
            "4199/4199 [==============================] - 13s 3ms/step - loss: 0.1599 - accuracy: 0.0000e+00 - val_loss: 1.1486 - val_accuracy: 0.0000e+00\n",
            "Epoch 19/30\n",
            "4199/4199 [==============================] - 14s 3ms/step - loss: 0.1488 - accuracy: 0.0000e+00 - val_loss: 1.2001 - val_accuracy: 0.0000e+00\n",
            "Epoch 20/30\n",
            "4199/4199 [==============================] - 13s 3ms/step - loss: 0.1452 - accuracy: 0.0000e+00 - val_loss: 1.1936 - val_accuracy: 0.0000e+00\n",
            "Epoch 21/30\n",
            "4199/4199 [==============================] - 13s 3ms/step - loss: 0.1466 - accuracy: 0.0000e+00 - val_loss: 1.2221 - val_accuracy: 0.0000e+00\n",
            "Epoch 22/30\n",
            "4199/4199 [==============================] - 13s 3ms/step - loss: 0.1463 - accuracy: 0.0000e+00 - val_loss: 1.1861 - val_accuracy: 0.0000e+00\n",
            "Epoch 23/30\n",
            "4199/4199 [==============================] - 13s 3ms/step - loss: 0.1375 - accuracy: 0.0000e+00 - val_loss: 1.3236 - val_accuracy: 0.0000e+00\n",
            "Epoch 24/30\n",
            "4199/4199 [==============================] - 13s 3ms/step - loss: 0.1336 - accuracy: 0.0000e+00 - val_loss: 1.4039 - val_accuracy: 0.0000e+00\n",
            "Epoch 25/30\n",
            "4199/4199 [==============================] - 14s 3ms/step - loss: 0.1348 - accuracy: 0.0000e+00 - val_loss: 1.4401 - val_accuracy: 0.0000e+00\n",
            "Epoch 26/30\n",
            "4199/4199 [==============================] - 14s 3ms/step - loss: 0.1331 - accuracy: 0.0000e+00 - val_loss: 1.2114 - val_accuracy: 0.0000e+00\n",
            "Epoch 27/30\n",
            "4199/4199 [==============================] - 13s 3ms/step - loss: 0.1261 - accuracy: 0.0000e+00 - val_loss: 1.3202 - val_accuracy: 0.0000e+00\n",
            "Epoch 28/30\n",
            "4199/4199 [==============================] - 13s 3ms/step - loss: 0.1240 - accuracy: 0.0000e+00 - val_loss: 1.2402 - val_accuracy: 0.0000e+00\n",
            "Epoch 29/30\n",
            "4199/4199 [==============================] - 14s 3ms/step - loss: 0.1196 - accuracy: 0.0000e+00 - val_loss: 1.2839 - val_accuracy: 0.0000e+00\n",
            "Epoch 30/30\n",
            "4199/4199 [==============================] - 14s 3ms/step - loss: 0.1250 - accuracy: 0.0000e+00 - val_loss: 1.3232 - val_accuracy: 0.0000e+00\n"
          ],
          "name": "stdout"
        }
      ]
    },
    {
      "cell_type": "code",
      "metadata": {
        "id": "8L5MuejQeIU7",
        "colab": {
          "base_uri": "https://localhost:8080/",
          "height": 282
        },
        "outputId": "50cfe1f0-67ed-4947-b277-78e8ee41756d"
      },
      "source": [
        "# predict model\n",
        "y1t = model.predict(Xt)\n",
        "plt.figure()\n",
        "plt.plot(y1t[:50])"
      ],
      "execution_count": null,
      "outputs": [
        {
          "output_type": "execute_result",
          "data": {
            "text/plain": [
              "[<matplotlib.lines.Line2D at 0x7fb848097d68>]"
            ]
          },
          "metadata": {
            "tags": []
          },
          "execution_count": 27
        },
        {
          "output_type": "display_data",
          "data": {
            "image/png": "[encoded data removed]",
            "text/plain": [
              "<Figure size 432x288 with 1 Axes>"
            ]
          },
          "metadata": {
            "tags": [],
            "needs_background": "light"
          }
        }
      ]
    },
    {
      "cell_type": "code",
      "metadata": {
        "id": "jwwFz8M4Acyn"
      },
      "source": [
        ""
      ],
      "execution_count": null,
      "outputs": []
    }
  ]
}