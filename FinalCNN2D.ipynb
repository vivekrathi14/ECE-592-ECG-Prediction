{
  "nbformat": 4,
  "nbformat_minor": 0,
  "metadata": {
    "colab": {
      "name": "FinalCNN2D.ipynb",
      "provenance": [],
      "collapsed_sections": []
    },
    "kernelspec": {
      "name": "python3",
      "display_name": "Python 3"
    },
    "accelerator": "GPU"
  },
  "cells": [
    {
      "cell_type": "code",
      "metadata": {
        "id": "G-ss0L56qdG4",
        "colab": {
          "base_uri": "https://localhost:8080/"
        },
        "outputId": "6515bb61-5874-42a1-fad1-73d4549cd22a"
      },
      "source": [
        "from google.colab import drive\n",
        "drive.mount('/content/drive')"
      ],
      "execution_count": null,
      "outputs": [
        {
          "output_type": "stream",
          "text": [
            "Mounted at /content/drive\n"
          ],
          "name": "stdout"
        }
      ]
    },
    {
      "cell_type": "code",
      "metadata": {
        "id": "ACEz8Tlo_gSB"
      },
      "source": [
        "#import deep learning libraries and other needed libraries\n",
        "from keras import Sequential\n",
        "from keras.layers import Flatten, Dense, Dropout, BatchNormalization\n",
        "from keras.layers import Conv2D, MaxPooling2D\n",
        "from keras.optimizers import Adam, SGD\n",
        "\n",
        "import pandas as pd\n",
        "import numpy as np\n",
        "import matplotlib.pyplot as plt\n",
        "from sklearn.model_selection import train_test_split\n",
        "from sklearn.preprocessing import StandardScaler, MinMaxScaler\n",
        "# from scipy import signal\n",
        "# from scipy.signal import butter, sosfilt, sosfreqz"
      ],
      "execution_count": null,
      "outputs": []
    },
    {
      "cell_type": "code",
      "metadata": {
        "id": "c4t7Ay3J_8UG",
        "colab": {
          "base_uri": "https://localhost:8080/",
          "height": 206
        },
        "outputId": "fe8982ee-1f7b-4df0-b21d-1cf46e66009a"
      },
      "source": [
        "# load dataset\n",
        "train_data = pd.read_csv('/content/drive/My Drive/592TopicsDataScience/Final Project/test.csv')\n",
        "train_data.columns = [\"Time\", \"ECG\", \"Ax\", \"Ay\", \"Az\"]\n",
        "train_data.head()"
      ],
      "execution_count": null,
      "outputs": [
        {
          "output_type": "execute_result",
          "data": {
            "text/html": [
              "<div>\n",
              "<style scoped>\n",
              "    .dataframe tbody tr th:only-of-type {\n",
              "        vertical-align: middle;\n",
              "    }\n",
              "\n",
              "    .dataframe tbody tr th {\n",
              "        vertical-align: top;\n",
              "    }\n",
              "\n",
              "    .dataframe thead th {\n",
              "        text-align: right;\n",
              "    }\n",
              "</style>\n",
              "<table border=\"1\" class=\"dataframe\">\n",
              "  <thead>\n",
              "    <tr style=\"text-align: right;\">\n",
              "      <th></th>\n",
              "      <th>Time</th>\n",
              "      <th>ECG</th>\n",
              "      <th>Ax</th>\n",
              "      <th>Ay</th>\n",
              "      <th>Az</th>\n",
              "    </tr>\n",
              "  </thead>\n",
              "  <tbody>\n",
              "    <tr>\n",
              "      <th>0</th>\n",
              "      <td>0.008333</td>\n",
              "      <td>134.76</td>\n",
              "      <td>0.22310</td>\n",
              "      <td>-0.15131</td>\n",
              "      <td>0.87346</td>\n",
              "    </tr>\n",
              "    <tr>\n",
              "      <th>1</th>\n",
              "      <td>0.016667</td>\n",
              "      <td>117.64</td>\n",
              "      <td>0.21813</td>\n",
              "      <td>-0.15153</td>\n",
              "      <td>0.87047</td>\n",
              "    </tr>\n",
              "    <tr>\n",
              "      <th>2</th>\n",
              "      <td>0.025000</td>\n",
              "      <td>144.96</td>\n",
              "      <td>0.21896</td>\n",
              "      <td>-0.15314</td>\n",
              "      <td>0.85289</td>\n",
              "    </tr>\n",
              "    <tr>\n",
              "      <th>3</th>\n",
              "      <td>0.033333</td>\n",
              "      <td>160.57</td>\n",
              "      <td>0.21804</td>\n",
              "      <td>-0.15625</td>\n",
              "      <td>0.86721</td>\n",
              "    </tr>\n",
              "    <tr>\n",
              "      <th>4</th>\n",
              "      <td>0.041667</td>\n",
              "      <td>177.87</td>\n",
              "      <td>0.21802</td>\n",
              "      <td>-0.15437</td>\n",
              "      <td>0.87482</td>\n",
              "    </tr>\n",
              "  </tbody>\n",
              "</table>\n",
              "</div>"
            ],
            "text/plain": [
              "       Time     ECG       Ax       Ay       Az\n",
              "0  0.008333  134.76  0.22310 -0.15131  0.87346\n",
              "1  0.016667  117.64  0.21813 -0.15153  0.87047\n",
              "2  0.025000  144.96  0.21896 -0.15314  0.85289\n",
              "3  0.033333  160.57  0.21804 -0.15625  0.86721\n",
              "4  0.041667  177.87  0.21802 -0.15437  0.87482"
            ]
          },
          "metadata": {
            "tags": []
          },
          "execution_count": 3
        }
      ]
    },
    {
      "cell_type": "code",
      "metadata": {
        "id": "whEsWdcjIaj2",
        "colab": {
          "base_uri": "https://localhost:8080/"
        },
        "outputId": "1d8c0e3b-cdf6-410c-e40c-fe58b90c2006"
      },
      "source": [
        "print(\"Shape of Training data: \",train_data.shape)\n",
        "train_data.info()\n",
        "# train_data[\"ECG\"].value_counts()"
      ],
      "execution_count": null,
      "outputs": [
        {
          "output_type": "stream",
          "text": [
            "Shape of Training data:  (335991, 5)\n",
            "<class 'pandas.core.frame.DataFrame'>\n",
            "RangeIndex: 335991 entries, 0 to 335990\n",
            "Data columns (total 5 columns):\n",
            " #   Column  Non-Null Count   Dtype  \n",
            "---  ------  --------------   -----  \n",
            " 0   Time    335991 non-null  float64\n",
            " 1   ECG     335991 non-null  float64\n",
            " 2   Ax      335991 non-null  float64\n",
            " 3   Ay      335991 non-null  float64\n",
            " 4   Az      335991 non-null  float64\n",
            "dtypes: float64(5)\n",
            "memory usage: 12.8 MB\n"
          ],
          "name": "stdout"
        }
      ]
    },
    {
      "cell_type": "code",
      "metadata": {
        "id": "vefB0DI28wBJ",
        "colab": {
          "base_uri": "https://localhost:8080/"
        },
        "outputId": "fede2a20-264c-4a8c-d57c-63e8700069a9"
      },
      "source": [
        "sample_freq = 120\n",
        "total_samples = train_data.shape[0]\n",
        "total_set_samples = int(np.floor(train_data.shape[0]/sample_freq)*sample_freq)\n",
        "print(\"Sampling Frequency: {}\\n Total Samples: {}\\n Total Set Samples: {}\".format(sample_freq,total_samples,total_set_samples))"
      ],
      "execution_count": null,
      "outputs": [
        {
          "output_type": "stream",
          "text": [
            "Sampling Frequency: 120\n",
            " Total Samples: 335991\n",
            " Total Set Samples: 335880\n"
          ],
          "name": "stdout"
        }
      ]
    },
    {
      "cell_type": "code",
      "metadata": {
        "id": "zxHAIiPPPsIF",
        "colab": {
          "base_uri": "https://localhost:8080/"
        },
        "outputId": "cc732398-63bc-4d48-d3d1-ce1fd21e078f"
      },
      "source": [
        "# data preprocessing\n",
        "\n",
        "X_i=train_data[[\"Ax\", \"Ay\", \"Az\"]].to_numpy()\n",
        "X_i=X_i[48:]\n",
        "Y_i=train_data[[\"ECG\"]].to_numpy()\n",
        "Y_i=Y_i[:-48]\n",
        "time_stamp = train_data[[\"Time\"]].to_numpy()\n",
        "\n",
        "validation_samples = int(0.20* total_samples)\n",
        "print(validation_samples)\n",
        "\n",
        "X_train, X_test, y_train, y_test = X_i[:-validation_samples],X_i[-validation_samples:],Y_i[:-validation_samples],Y_i[-validation_samples:],\n",
        "\n",
        "print(\"X_train shape: {}\".format(X_train.shape))\n",
        "print(\"y_train shape: {}\".format(y_train.shape))\n",
        "\n",
        "total_train_samples = X_train.shape[0]\n",
        "print(\"X_test shape: {}\".format(X_test.shape))\n",
        "print(\"y_test shape: {}\".format(y_test.shape))\n",
        "\n",
        "total_val_samples = X_test.shape[0]\n",
        "\n",
        "time_stamp_v = time_stamp[-validation_samples:]"
      ],
      "execution_count": null,
      "outputs": [
        {
          "output_type": "stream",
          "text": [
            "67198\n",
            "X_train shape: (268745, 3)\n",
            "y_train shape: (268745, 1)\n",
            "X_test shape: (67198, 3)\n",
            "y_test shape: (67198, 1)\n"
          ],
          "name": "stdout"
        }
      ]
    },
    {
      "cell_type": "code",
      "metadata": {
        "id": "ktjFYuYUsxnF",
        "colab": {
          "base_uri": "https://localhost:8080/"
        },
        "outputId": "bdf45541-97cc-4638-fc68-8bbc9da53039"
      },
      "source": [
        "scaler = StandardScaler()\n",
        "X_train_scaled = scaler.fit_transform(X_train)\n",
        "Y_train_scaled = scaler.fit_transform(y_train)\n",
        "X_test_scaled = scaler.fit_transform(X_test)\n",
        "Y_test_scaled = scaler.fit_transform(y_test)\n",
        "\n",
        "# create training data for NN\n",
        "X,Y,Xt,Yt,tm = [],[],[],[],[]\n",
        "stride = 60\n",
        "for i in range(0,total_train_samples-stride):\n",
        "  X.append(X_train_scaled[i:i+stride])\n",
        "  Y.append(Y_train_scaled[i+stride-1])\n",
        "\n",
        "for i in range(0,total_val_samples-stride):\n",
        "  Xt.append(X_test_scaled[i:i+stride])\n",
        "  Yt.append(Y_test_scaled[i+stride-1])\n",
        "  tm.append(time_stamp_v[i+stride-1])\n",
        "\n",
        "TM = np.array(tm)\n",
        "X = np.array(X)\n",
        "print(\"Input X shape:\",X.shape)\n",
        "Y = np.array(Y)\n",
        "# Y = np.array(Y).reshape(-1,1,sample_freq)\n",
        "print(\"Input Y shape:\",Y.shape)\n",
        "\n",
        "print(\"# of sets: {}\\n# of timesteps: {}\\n# features: {}\\n\".format(X.shape[0],X.shape[1],X.shape[2]))\n",
        "\n",
        "# sets,timesteps,features,outputs = X.shape[0],X.shape[1],X.shape[2],Y.shape[2]\n",
        "batch_size=64\n",
        "\n",
        "\n",
        "Xt = np.array(Xt)\n",
        "Yt = np.array(Yt)\n",
        "\n",
        "print(\"Test X shape:\",Xt.shape)\n",
        "print(\"Test Y shape:\",Yt.shape)\n",
        "# Y = np.median(Y,axis=2)\n",
        "# print(\"Input Y shape:\",Y.shape)\n",
        "# Y = np.array(Y).reshape(-1,1,120)\n",
        "\n",
        "X = X.reshape(-1,stride,3,1)\n",
        "Xt = Xt.reshape(-1,stride,3,1)"
      ],
      "execution_count": null,
      "outputs": [
        {
          "output_type": "stream",
          "text": [
            "Input X shape: (268685, 60, 3)\n",
            "Input Y shape: (268685, 1)\n",
            "# of sets: 268685\n",
            "# of timesteps: 60\n",
            "# features: 3\n",
            "\n",
            "Test X shape: (67138, 60, 3)\n",
            "Test Y shape: (67138, 1)\n"
          ],
          "name": "stdout"
        }
      ]
    },
    {
      "cell_type": "code",
      "metadata": {
        "id": "yevY8UBIT3pW",
        "colab": {
          "base_uri": "https://localhost:8080/"
        },
        "outputId": "e3431390-ad30-40ef-c6b8-cb918ae9a442"
      },
      "source": [
        "# build model\n",
        "model = Sequential()\n",
        "model.add(Conv2D(60, (5, 1), activation = 'relu', input_shape = X[0].shape))\n",
        "model.add(Conv2D(60, (5, 1), activation = 'relu', input_shape = X[0].shape))\n",
        "model.add(Flatten())\n",
        "model.add(Dense(250, activation = 'relu'))\n",
        "model.add(Dense(250, activation = 'relu'))\n",
        "model.add(Dense(1))\n",
        "model.summary()"
      ],
      "execution_count": null,
      "outputs": [
        {
          "output_type": "stream",
          "text": [
            "Model: \"sequential\"\n",
            "_________________________________________________________________\n",
            "Layer (type)                 Output Shape              Param #   \n",
            "=================================================================\n",
            "conv2d (Conv2D)              (None, 56, 3, 60)         360       \n",
            "_________________________________________________________________\n",
            "conv2d_1 (Conv2D)            (None, 52, 3, 60)         18060     \n",
            "_________________________________________________________________\n",
            "flatten (Flatten)            (None, 9360)              0         \n",
            "_________________________________________________________________\n",
            "dense (Dense)                (None, 250)               2340250   \n",
            "_________________________________________________________________\n",
            "dense_1 (Dense)              (None, 250)               62750     \n",
            "_________________________________________________________________\n",
            "dense_2 (Dense)              (None, 1)                 251       \n",
            "=================================================================\n",
            "Total params: 2,421,671\n",
            "Trainable params: 2,421,671\n",
            "Non-trainable params: 0\n",
            "_________________________________________________________________\n"
          ],
          "name": "stdout"
        }
      ]
    },
    {
      "cell_type": "code",
      "metadata": {
        "id": "F9fsyMjcs3Ms",
        "colab": {
          "base_uri": "https://localhost:8080/"
        },
        "outputId": "a3721ea6-3131-4747-9a6d-24b569752242"
      },
      "source": [
        "# fit model\n",
        "model.compile(optimizer=Adam(learning_rate = 0.001), loss = 'mse', metrics = ['accuracy'])\n",
        "history=model.fit(X,Y,batch_size=batch_size,epochs=30,verbose=1,validation_data=(Xt, Yt))"
      ],
      "execution_count": null,
      "outputs": [
        {
          "output_type": "stream",
          "text": [
            "Epoch 1/30\n",
            "4199/4199 [==============================] - 22s 3ms/step - loss: 0.7197 - accuracy: 0.0000e+00 - val_loss: 0.7236 - val_accuracy: 0.0000e+00\n",
            "Epoch 2/30\n",
            "4199/4199 [==============================] - 15s 4ms/step - loss: 0.3880 - accuracy: 0.0000e+00 - val_loss: 0.5911 - val_accuracy: 0.0000e+00\n",
            "Epoch 3/30\n",
            "4199/4199 [==============================] - 15s 4ms/step - loss: 0.3110 - accuracy: 0.0000e+00 - val_loss: 0.8121 - val_accuracy: 0.0000e+00\n",
            "Epoch 4/30\n",
            "4199/4199 [==============================] - 15s 4ms/step - loss: 0.2434 - accuracy: 0.0000e+00 - val_loss: 0.8563 - val_accuracy: 0.0000e+00\n",
            "Epoch 5/30\n",
            "4199/4199 [==============================] - 14s 3ms/step - loss: 0.1976 - accuracy: 0.0000e+00 - val_loss: 0.8396 - val_accuracy: 0.0000e+00\n",
            "Epoch 6/30\n",
            "4199/4199 [==============================] - 15s 3ms/step - loss: 0.1620 - accuracy: 0.0000e+00 - val_loss: 0.8314 - val_accuracy: 0.0000e+00\n",
            "Epoch 7/30\n",
            "4199/4199 [==============================] - 15s 4ms/step - loss: 0.1411 - accuracy: 0.0000e+00 - val_loss: 0.8941 - val_accuracy: 0.0000e+00\n",
            "Epoch 8/30\n",
            "4199/4199 [==============================] - 14s 3ms/step - loss: 0.1211 - accuracy: 0.0000e+00 - val_loss: 0.8289 - val_accuracy: 0.0000e+00\n",
            "Epoch 9/30\n",
            "4199/4199 [==============================] - 14s 3ms/step - loss: 0.1042 - accuracy: 0.0000e+00 - val_loss: 0.8438 - val_accuracy: 0.0000e+00\n",
            "Epoch 10/30\n",
            "4199/4199 [==============================] - 15s 4ms/step - loss: 0.0892 - accuracy: 0.0000e+00 - val_loss: 0.8220 - val_accuracy: 0.0000e+00\n",
            "Epoch 11/30\n",
            "4199/4199 [==============================] - 14s 3ms/step - loss: 0.0783 - accuracy: 0.0000e+00 - val_loss: 0.9002 - val_accuracy: 0.0000e+00\n",
            "Epoch 12/30\n",
            "4199/4199 [==============================] - 14s 3ms/step - loss: 0.0700 - accuracy: 0.0000e+00 - val_loss: 0.7948 - val_accuracy: 0.0000e+00\n",
            "Epoch 13/30\n",
            "4199/4199 [==============================] - 15s 3ms/step - loss: 0.0631 - accuracy: 0.0000e+00 - val_loss: 0.8761 - val_accuracy: 0.0000e+00\n",
            "Epoch 14/30\n",
            "4199/4199 [==============================] - 14s 3ms/step - loss: 0.0598 - accuracy: 0.0000e+00 - val_loss: 0.8117 - val_accuracy: 0.0000e+00\n",
            "Epoch 15/30\n",
            "4199/4199 [==============================] - 14s 3ms/step - loss: 0.0549 - accuracy: 0.0000e+00 - val_loss: 0.9000 - val_accuracy: 0.0000e+00\n",
            "Epoch 16/30\n",
            "4199/4199 [==============================] - 14s 3ms/step - loss: 0.0505 - accuracy: 0.0000e+00 - val_loss: 0.8987 - val_accuracy: 0.0000e+00\n",
            "Epoch 17/30\n",
            "4199/4199 [==============================] - 14s 3ms/step - loss: 0.0476 - accuracy: 0.0000e+00 - val_loss: 0.8203 - val_accuracy: 0.0000e+00\n",
            "Epoch 18/30\n",
            "4199/4199 [==============================] - 14s 3ms/step - loss: 0.0452 - accuracy: 0.0000e+00 - val_loss: 0.8992 - val_accuracy: 0.0000e+00\n",
            "Epoch 19/30\n",
            "4199/4199 [==============================] - 14s 3ms/step - loss: 0.0413 - accuracy: 0.0000e+00 - val_loss: 0.9071 - val_accuracy: 0.0000e+00\n",
            "Epoch 20/30\n",
            "4199/4199 [==============================] - 14s 3ms/step - loss: 0.0396 - accuracy: 0.0000e+00 - val_loss: 0.9081 - val_accuracy: 0.0000e+00\n",
            "Epoch 21/30\n",
            "4199/4199 [==============================] - 14s 3ms/step - loss: 0.0379 - accuracy: 0.0000e+00 - val_loss: 0.8589 - val_accuracy: 0.0000e+00\n",
            "Epoch 22/30\n",
            "4199/4199 [==============================] - 14s 3ms/step - loss: 0.0369 - accuracy: 0.0000e+00 - val_loss: 0.8972 - val_accuracy: 0.0000e+00\n",
            "Epoch 23/30\n",
            "4199/4199 [==============================] - 15s 4ms/step - loss: 0.0331 - accuracy: 0.0000e+00 - val_loss: 0.8724 - val_accuracy: 0.0000e+00\n",
            "Epoch 24/30\n",
            "4199/4199 [==============================] - 15s 4ms/step - loss: 0.0332 - accuracy: 0.0000e+00 - val_loss: 0.8727 - val_accuracy: 0.0000e+00\n",
            "Epoch 25/30\n",
            "4199/4199 [==============================] - 15s 4ms/step - loss: 0.0320 - accuracy: 0.0000e+00 - val_loss: 0.9021 - val_accuracy: 0.0000e+00\n",
            "Epoch 26/30\n",
            "4199/4199 [==============================] - 15s 4ms/step - loss: 0.0305 - accuracy: 0.0000e+00 - val_loss: 0.8998 - val_accuracy: 0.0000e+00\n",
            "Epoch 27/30\n",
            "4199/4199 [==============================] - 15s 4ms/step - loss: 0.0291 - accuracy: 0.0000e+00 - val_loss: 0.8854 - val_accuracy: 0.0000e+00\n",
            "Epoch 28/30\n",
            "4199/4199 [==============================] - 15s 4ms/step - loss: 0.0291 - accuracy: 0.0000e+00 - val_loss: 0.9223 - val_accuracy: 0.0000e+00\n",
            "Epoch 29/30\n",
            "4199/4199 [==============================] - 15s 4ms/step - loss: 0.0276 - accuracy: 0.0000e+00 - val_loss: 0.9220 - val_accuracy: 0.0000e+00\n",
            "Epoch 30/30\n",
            "4199/4199 [==============================] - 15s 3ms/step - loss: 0.0270 - accuracy: 0.0000e+00 - val_loss: 0.8776 - val_accuracy: 0.0000e+00\n"
          ],
          "name": "stdout"
        }
      ]
    },
    {
      "cell_type": "code",
      "metadata": {
        "id": "lOFceK9WvXAU",
        "colab": {
          "base_uri": "https://localhost:8080/",
          "height": 282
        },
        "outputId": "71a03096-3709-4106-ed4d-7a393708ee07"
      },
      "source": [
        "# prediction\n",
        "y1t = model.predict(Xt)\n",
        "plt.figure()\n",
        "plt.plot(y1t[:])"
      ],
      "execution_count": null,
      "outputs": [
        {
          "output_type": "execute_result",
          "data": {
            "text/plain": [
              "[<matplotlib.lines.Line2D at 0x7f4e303c2dd8>]"
            ]
          },
          "metadata": {
            "tags": []
          },
          "execution_count": 51
        },
        {
          "output_type": "display_data",
          "data": {
            "image/png": "[encoded data removed]",
            "text/plain": [
              "<Figure size 432x288 with 1 Axes>"
            ]
          },
          "metadata": {
            "tags": [],
            "needs_background": "light"
          }
        }
      ]
    },
    {
      "cell_type": "code",
      "metadata": {
        "id": "nGsLsh_VvbVQ"
      },
      "source": [
        "# save the data\n",
        "y_pred = scaler.inverse_transform(y1t)\n",
        "y_gt = scaler.inverse_transform(Yt)\n",
        "data_array = np.hstack((TM,y_pred,y_gt))\n",
        "np.savetxt(\"predECE592FCNN2D.csv\", data_array, delimiter=',', header=\"Time,ECG_pred,ECG_GT\", comments=\"\")"
      ],
      "execution_count": null,
      "outputs": []
    }
  ]
}